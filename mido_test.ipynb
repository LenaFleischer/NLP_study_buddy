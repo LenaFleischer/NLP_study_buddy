{
 "cells": [
  {
   "cell_type": "code",
   "execution_count": 13,
   "id": "075dc9c9",
   "metadata": {},
   "outputs": [],
   "source": [
    "from mido import MidiFile, MidiTrack\n",
    "import os\n",
    "from mido import MetaMessage\n",
    "\n",
    "# directory name should be midis, at the same level as this file. "
   ]
  },
  {
   "cell_type": "code",
   "execution_count": 7,
   "id": "4ccfe2e8",
   "metadata": {},
   "outputs": [
    {
     "name": "stdout",
     "output_type": "stream",
     "text": [
      "<midi file '/Users/lena/git/NLP_study_buddy/midis/mozart/mz_311_1.mid' type 1, 10 tracks, 7493 messages>\n"
     ]
    }
   ],
   "source": [
    "filepath = os.path.join(os.getcwd(),\"midis\", \"mozart\", \"mz_311_1.mid\")\n",
    "mid = MidiFile(filepath, clip=True)\n",
    "print(mid)"
   ]
  },
  {
   "cell_type": "code",
   "execution_count": 11,
   "id": "6a6e0dd2",
   "metadata": {},
   "outputs": [
    {
     "name": "stdout",
     "output_type": "stream",
     "text": [
      "Track 0: Klaviersonate Nr. 8 KV 311 1. Satz\n",
      "<meta message key_signature key='D' time=0>\n",
      "Track 1: Piano right\n",
      "Track 2: Piano left\n",
      "Track 3: Pedal\n",
      "Track 4: Mozart: Sonate KV 311\n",
      "Track 5: Copyright © 2006 by Bernd Krüger\n",
      "Track 6: http://www.piano-midi.de\n",
      "Track 7: Edition: 2013-06-05\n",
      "Track 8: Spur 8\n",
      "Track 9: Spur 9\n"
     ]
    }
   ],
   "source": [
    "for i, track in enumerate(mid.tracks):\n",
    "    print('Track {}: {}'.format(i, track.name))\n",
    "    for msg in track:\n",
    "        if msg.type == 'key_signature':\n",
    "            print(msg)\n",
    "            "
   ]
  },
  {
   "cell_type": "code",
   "execution_count": 19,
   "id": "63cced72",
   "metadata": {},
   "outputs": [
    {
     "ename": "ValueError",
     "evalue": "mode is not a valid argument for this message type",
     "output_type": "error",
     "traceback": [
      "\u001b[0;31m---------------------------------------------------------------------------\u001b[0m",
      "\u001b[0;31mValueError\u001b[0m                                Traceback (most recent call last)",
      "Cell \u001b[0;32mIn [19], line 1\u001b[0m\n\u001b[0;32m----> 1\u001b[0m \u001b[43mMetaMessage\u001b[49m\u001b[43m(\u001b[49m\u001b[38;5;124;43m'\u001b[39;49m\u001b[38;5;124;43mkey_signature\u001b[39;49m\u001b[38;5;124;43m'\u001b[39;49m\u001b[43m,\u001b[49m\u001b[43m \u001b[49m\u001b[43mkey\u001b[49m\u001b[38;5;241;43m=\u001b[39;49m\u001b[38;5;124;43m'\u001b[39;49m\u001b[38;5;124;43mC#\u001b[39;49m\u001b[38;5;124;43m'\u001b[39;49m\u001b[43m,\u001b[49m\u001b[43m \u001b[49m\u001b[43mmode\u001b[49m\u001b[38;5;241;43m=\u001b[39;49m\u001b[38;5;124;43m'\u001b[39;49m\u001b[38;5;124;43mmajor\u001b[39;49m\u001b[38;5;124;43m'\u001b[39;49m\u001b[43m)\u001b[49m\n",
      "File \u001b[0;32m~/opt/anaconda3/envs/mido/lib/python3.10/site-packages/mido/midifiles/meta.py:477\u001b[0m, in \u001b[0;36mMetaMessage.__init__\u001b[0;34m(self, type, **kwargs)\u001b[0m\n\u001b[1;32m    475\u001b[0m \u001b[38;5;28;01mfor\u001b[39;00m name \u001b[38;5;129;01min\u001b[39;00m kwargs:\n\u001b[1;32m    476\u001b[0m     \u001b[38;5;28;01mif\u001b[39;00m name \u001b[38;5;129;01mnot\u001b[39;00m \u001b[38;5;129;01min\u001b[39;00m spec\u001b[38;5;241m.\u001b[39msettable_attributes:\n\u001b[0;32m--> 477\u001b[0m         \u001b[38;5;28;01mraise\u001b[39;00m \u001b[38;5;167;01mValueError\u001b[39;00m(\n\u001b[1;32m    478\u001b[0m             \u001b[38;5;124m'\u001b[39m\u001b[38;5;132;01m{}\u001b[39;00m\u001b[38;5;124m is not a valid argument for this message type\u001b[39m\u001b[38;5;124m'\u001b[39m\u001b[38;5;241m.\u001b[39mformat(\n\u001b[1;32m    479\u001b[0m                 name))\n\u001b[1;32m    481\u001b[0m \u001b[38;5;28;01mfor\u001b[39;00m name, value \u001b[38;5;129;01min\u001b[39;00m \u001b[38;5;28mzip\u001b[39m(spec\u001b[38;5;241m.\u001b[39mattributes, spec\u001b[38;5;241m.\u001b[39mdefaults):\n\u001b[1;32m    482\u001b[0m     self_vars[name] \u001b[38;5;241m=\u001b[39m value\n",
      "\u001b[0;31mValueError\u001b[0m: mode is not a valid argument for this message type"
     ]
    }
   ],
   "source": [
    "MetaMessage('key_signature', key='C#', mode='major')\n"
   ]
  },
  {
   "cell_type": "code",
   "execution_count": 59,
   "id": "ac41ff93",
   "metadata": {},
   "outputs": [],
   "source": [
    "# https://www.reddit.com/r/AskProgramming/comments/jrsspc/python_parsing_midi_files_with_mido_for_the/\n",
    "def createMessageList():\n",
    "    msgs = []\n",
    "    meta_message = []\n",
    "\n",
    "    midsource = MidiFile(\"midis/mozart/mz_311_1.mid\")\n",
    "    midfinal = MidiFile()\n",
    "    trackfinal = MidiTrack()\n",
    "    midfinal.tracks.append(trackfinal)\n",
    "\n",
    "    for i, track in enumerate(midsource.tracks):\n",
    "        #print(track.name)\n",
    "        if track.name == 'Piano right':\n",
    "            #print('Track {}: {}'.format(i, track.name))\n",
    "            for msg in track:\n",
    "                if type(msg) is MetaMessage:\n",
    "                    meta_message.append(msg)\n",
    "                else:  \n",
    "                    msgs.append(msg)\n",
    "\n",
    "            for i in msgs:\n",
    "                trackfinal.append(i)\n",
    "\n",
    "    midfinal.save('demo.mid')\n",
    "    return msgs\n",
    "\n"
   ]
  },
  {
   "cell_type": "code",
   "execution_count": 60,
   "id": "4d9d5ff1",
   "metadata": {},
   "outputs": [],
   "source": [
    "# make dictionary \n",
    "def createNoteDict(msgs):\n",
    "    note_dict = {}\n",
    "    for msg in msgs:\n",
    "        if msg.type == 'note_on':\n",
    "            #print(msg.note)\n",
    "            note = msg.note\n",
    "            if note in note_dict.keys():\n",
    "                note_dict[note] += 1\n",
    "            else:\n",
    "                note_dict[note] = 1    \n",
    "    sorted_note_dict = sorted(note_dict.items(), key=lambda x: x[1], reverse=True)\n",
    "    return sorted_note_dict"
   ]
  },
  {
   "cell_type": "code",
   "execution_count": 61,
   "id": "72a0681b",
   "metadata": {},
   "outputs": [
    {
     "data": {
      "text/plain": [
       "[(76, 444),\n",
       " (78, 396),\n",
       " (74, 318),\n",
       " (81, 312),\n",
       " (79, 290),\n",
       " (73, 262),\n",
       " (69, 188),\n",
       " (71, 160),\n",
       " (83, 102),\n",
       " (86, 74),\n",
       " (85, 64),\n",
       " (80, 60),\n",
       " (75, 58),\n",
       " (66, 48),\n",
       " (67, 44),\n",
       " (72, 38),\n",
       " (64, 30),\n",
       " (68, 28),\n",
       " (62, 22),\n",
       " (77, 16),\n",
       " (61, 16),\n",
       " (45, 14),\n",
       " (59, 8),\n",
       " (70, 6),\n",
       " (88, 6),\n",
       " (50, 6),\n",
       " (47, 4),\n",
       " (44, 4),\n",
       " (40, 4),\n",
       " (82, 4),\n",
       " (84, 4),\n",
       " (52, 2),\n",
       " (49, 2)]"
      ]
     },
     "execution_count": 61,
     "metadata": {},
     "output_type": "execute_result"
    }
   ],
   "source": [
    "createNoteDict(createMessageList())"
   ]
  },
  {
   "cell_type": "code",
   "execution_count": null,
   "id": "2acfa742",
   "metadata": {},
   "outputs": [],
   "source": []
  }
 ],
 "metadata": {
  "kernelspec": {
   "display_name": "Python 3 (ipykernel)",
   "language": "python",
   "name": "python3"
  },
  "language_info": {
   "codemirror_mode": {
    "name": "ipython",
    "version": 3
   },
   "file_extension": ".py",
   "mimetype": "text/x-python",
   "name": "python",
   "nbconvert_exporter": "python",
   "pygments_lexer": "ipython3",
   "version": "3.9.7"
  }
 },
 "nbformat": 4,
 "nbformat_minor": 5
}
