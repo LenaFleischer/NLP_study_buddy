{
 "cells": [
  {
   "cell_type": "code",
   "execution_count": 14,
   "id": "075dc9c9",
   "metadata": {},
   "outputs": [],
   "source": [
    "import mido\n",
    "import os\n",
    "import random\n",
    "from mido import MidiFile\n",
    "\n",
    "# directory name should be midis, at the same level as this file. "
   ]
  },
  {
   "cell_type": "code",
   "execution_count": 17,
   "id": "6a6e0dd2",
   "metadata": {},
   "outputs": [],
   "source": [
    "# for i, track in enumerate(mid.tracks):\n",
    "#     print('Track {}: {}'.format(i, track.name))\n",
    "#     for msg in track:\n",
    "#         if msg.type == 'key_signature':\n",
    "#             print(msg)\n",
    "            "
   ]
  },
  {
   "cell_type": "code",
   "execution_count": 18,
   "id": "a7298cde-f301-4d3a-b463-0110cd0e0575",
   "metadata": {},
   "outputs": [],
   "source": [
    "# This function will take in a folder and convert each MIDI file into a list of tokens where each token is a note value of the piece\n",
    "# It will return a 2D list where each row is a piece and each column represents a token/note of the piece\n",
    "def tokenize_pieces(midi_folder):\n",
    "    midi_pieces = []\n",
    "    for midi_file_name in os.listdir(midi_folder):\n",
    "        midsource = MidiFile(midi_folder + \"/\" + midi_file_name)\n",
    "        note_token_sequence = []\n",
    "        for i, track in enumerate(midsource.tracks):\n",
    "            if track.name == 'Piano right':\n",
    "                for msg in track:\n",
    "                    if msg.type == 'note_on':\n",
    "                         note_token_sequence.append(msg.note)\n",
    "        midi_pieces.append(note_token_sequence)\n",
    "    return midi_pieces"
   ]
  },
  {
   "cell_type": "code",
   "execution_count": 19,
   "id": "3acde28c-f50b-454a-b792-88ac6cc1df4c",
   "metadata": {},
   "outputs": [],
   "source": [
    "# This function will generate n grams given a list of token sequences\n",
    "def create_n_grams(n, token_sequences):\n",
    "    \n",
    "    paddings = n - 1\n",
    "    start_padding = \"<start>\"\n",
    "    end_padding = \"<end>\"\n",
    "    n_grams_count = {}\n",
    "\n",
    "    # Add the start padding (<start>) n-1 number of times\n",
    "    if paddings > 0:\n",
    "        for i in range(0, len(token_sequences)):\n",
    "            for j in range(0, paddings):\n",
    "                token_sequences[i].insert(0, start_padding)\n",
    "\n",
    "    # Add the end padding (<end>) once to the end of each sequence\n",
    "    for i in range(0, len(token_sequences)):\n",
    "        token_sequences[i].append(end_padding)\n",
    "\n",
    "    # Iterate through each word in each sequence and using slicing to get the n gram, then add to dictionary/update count\n",
    "    for sequence in token_sequences:\n",
    "        for i in range(len(sequence)-n+1): # Source: https://stackoverflow.com/questions/13423919/computing-n-grams-using-python\n",
    "            gram = sequence[i:i+n] # Source: https://stackoverflow.com/questions/13423919/computing-n-grams-using-python\n",
    "            gram = tuple(gram)\n",
    "            if gram in n_grams_count:\n",
    "                n_grams_count[gram] += 1\n",
    "            else:\n",
    "                n_grams_count[gram] = 1\n",
    "\n",
    "    return n_grams_count\n"
   ]
  },
  {
   "cell_type": "code",
   "execution_count": null,
   "id": "7fe03a2b-c848-4b12-8c25-f5b82b8d4a03",
   "metadata": {
    "tags": []
   },
   "outputs": [],
   "source": []
  },
  {
   "cell_type": "code",
   "execution_count": 20,
   "id": "8b32f8db-d4c4-4301-93b2-f96968e15f74",
   "metadata": {},
   "outputs": [],
   "source": [
    "def generate_song(n_gram_frequencies, k):\n",
    "    \n",
    "    # We need to first determine what the \"n\" is from the input frequency dictionary\n",
    "    n = len(tuple(n_gram_frequencies.keys())[0])\n",
    "\n",
    "    # Start with an empty tweet\n",
    "    song_sequence = []\n",
    "\n",
    "    # For bigrams and up...\n",
    "    if n - 1 > 0:\n",
    "        for i in range(0, n-1):\n",
    "            song_sequence.insert(0, \"<start>\")\n",
    "    \n",
    "        while song_sequence[len(song_sequence)-1] != \"<end>\":\n",
    "            \n",
    "            # Slice the song so we can get the previous n-1 gram that comes before the predicted token\n",
    "            previous_token_sequence = song_sequence[len(song_sequence)-(n-1):len(song_sequence)]\n",
    "\n",
    "            # Using dictionary comprehension, create a dictionary containing all n-grams that contain the previous token sequence\n",
    "            matched_dictionary = {k:v for k,v in n_gram_frequencies.items() if k[0:n - 1] == tuple(previous_token_sequence)}\n",
    "\n",
    "            # Prepare a list of possible choices along with their corresponding weights\n",
    "            choices = []\n",
    "            choices_weights = []\n",
    "\n",
    "            # Populate the choices and weights by iterating through the keys in the matched dictionary \n",
    "            matched_dictionary_keylist = list(matched_dictionary.keys())\n",
    "            for j in range(0, len(matched_dictionary_keylist)):\n",
    "                # insert the last word of the tuple key insert it as a choice\n",
    "                choices.append(matched_dictionary_keylist[j][len(matched_dictionary_keylist[j])-1])\n",
    "\n",
    "                # Weights are calculated by taking the actual count of the key and dividing it by all that is found\n",
    "                choices_weights.append(matched_dictionary[matched_dictionary_keylist[j]] / len(matched_dictionary) + k)\n",
    "            \n",
    "            chosen = random.choices(choices, weights=choices_weights, k=1)\n",
    "            song_sequence.append(chosen[0])\n",
    "    else:\n",
    "        # Special case for unigrams only\n",
    "        choices = []\n",
    "        choices_weights = []\n",
    "        n_gram_frequencies_keylist = list(n_gram_frequencies.keys())\n",
    "        for j in range(0, len(n_gram_frequencies_keylist)):\n",
    "            # insert the last word of the tuple key as a choice\n",
    "            choices.append(n_gram_frequencies_keylist[j][0])\n",
    "            choices_weights.append(n_gram_frequencies[n_gram_frequencies_keylist[j]] / len(n_gram_frequencies) + k)\n",
    "        \n",
    "        # Adding the first item so tweet isn't empty\n",
    "        song_sequence.append(random.choices(choices, weights=choices_weights, k=1)[0])\n",
    "        while song_sequence[len(song_sequence)-1] != \"<end>\":\n",
    "            chosen = random.choices(choices, weights=choices_weights, k=1)\n",
    "            song_sequence.append(chosen[0])\n",
    "    \n",
    "    # Removing the paddings and converting the grams of the tweet into a string\n",
    "    # return ' '.join([word for word in tweet if word != \"<start>\" and word != \"<end>\"])\n",
    "    for x in range(n-1):\n",
    "        song_sequence.pop(0)\n",
    "    song_sequence.pop(-1)\n",
    "    return song_sequence"
   ]
  },
  {
   "cell_type": "code",
   "execution_count": 21,
   "id": "f44055c2-6ef5-423c-bc5e-ce6eeb99f6ce",
   "metadata": {},
   "outputs": [],
   "source": [
    "# Our bigram of notes!\n",
    "song_token_sequences = create_n_grams(4, tokenize_pieces(\"./midis\"))\n",
    "song = generate_song(song_token_sequences, 0)"
   ]
  },
  {
   "cell_type": "code",
   "execution_count": 22,
   "id": "22757bf3-20f4-49a2-acc2-ac3fa169e44f",
   "metadata": {},
   "outputs": [
    {
     "name": "stdout",
     "output_type": "stream",
     "text": [
      "[88, 100, 88, 100, 88, 76, 88, 100, 88, 100, 101, 100, 101, 100, 101, 100, 101, 100, 86, 98, 100, 98, 84, 96, 79, 91, 86, 91, 88, 87, 90, 93, 89, 88, 84, 83, 84, 82, 81, 80, 80, 62, 69, 68, 64, 76, 78, 80, 81, 85, 81, 84, 85, 80, 92, 85, 90, 89, 93, 92, 85, 90, 85, 81, 78, 73, 69, 66, 62, 69, 66, 62, 62, 65, 63, 62, 60, 66, 54, 55, 60, 67, 72, 60, 67, 77, 60, 67, 72, 60, 71, 67, 59, 71, 67, 59, 71, 65, 70, 71, 60, 65, 69, 60, 67, 64, 60, 57, 57, 69, 64, 52, 69, 57, 81, 69, 72, 77, 76, 72, 76, 72, 76, 69, 81, 70, 82, 74, 73, 74, 76, 77, 77, 79, 81, 83, 84, 84, 84, 81, 77, 89, 77, 82, 89, 74, 77, 67, 73, 67, 73, 77, 67, 73, 75, 72, 81, 81, 89, 89, 88, 88, 87, 67, 66, 65, 64, 63, 64, 67, 65, 62, 60, 64, 72, 71, 59, 65, 55, 59, 62, 67, 55, 55, 59, 62, 67, 65, 67, 65, 67, 64, 67, 67, 79, 77, 81, 73, 74, 76, 74, 68, 67, 73, 76, 67, 72, 78, 79, 71, 79, 73, 70, 67, 73, 76, 79, 76, 84, 83, 72, 81, 79, 83, 81, 78, 87, 82, 83, 76, 77, 75, 76, 79, 77, 76, 74, 81, 76, 73, 69, 64, 64, 57, 53, 65, 53, 93, 89, 84, 84, 81, 77, 72, 77, 71, 74, 77, 76, 72, 79, 79, 78, 80, 79, 76, 72, 77, 74, 71, 69, 65, 71, 65, 59, 59, 53, 49, 55, 61, 49, 56, 61, 49, 57, 61, 61, 69, 73, 69, 72, 64, 76, 84, 79, 76, 74, 76, 74, 72, 71, 69, 67, 66, 67, 62, 65, 60, 63, 61, 64, 61, 73, 61, 69, 93, 81, 85, 89, 77, 69, 72, 76, 60, 64, 72, 76, 64, 67, 76, 72, 72, 74, 76, 77, 79, 81, 79, 77, 81, 79, 77, 76, 74, 76, 74, 73, 74, 67, 76, 68, 64, 61, 66, 63, 64, 69, 68, 88, 89, 88, 89, 88, 89, 88, 89, 88, 91, 89, 87, 86, 84, 82, 81, 79, 78, 76, 75, 72, 79, 78, 81, 69, 74, 71, 71, 77, 83, 77, 79, 84, 80, 82, 80, 79, 80, 81, 84, 86, 77, 76, 84, 75, 79, 76, 72, 76, 71, 74, 71, 68, 74, 83, 71, 67, 72, 76, 75, 80, 84, 96, 75, 80, 72, 75, 76, 68, 78, 66, 76, 74, 62, 74, 71, 61, 73, 69, 61, 73, 69, 62, 74, 69, 61, 57, 69, 57, 69, 76, 72, 67, 60, 76, 77, 76, 74, 76, 77, 79, 72, 71, 74, 72, 67, 68, 67, 66, 65, 64, 64, 84, 72, 79, 82, 75, 78, 71, 68, 68, 71, 76, 76, 69, 81, 74, 81, 74, 77, 68, 80, 68, 74, 83, 71, 69, 81, 76, 72, 84, 77, 80, 85, 75, 86, 83, 81, 80, 77, 76, 75, 74, 73, 72, 71, 80, 68, 74, 83, 71, 69, 81, 83, 71, 84, 83, 79, 74, 86, 74, 86, 62, 69, 74, 62, 66, 56, 62, 67, 65, 64, 62, 60, 72, 64, 67, 72, 76, 79, 79, 66, 67, 71, 74, 65, 55, 55, 69, 61, 65, 73, 68, 65, 61, 55, 60, 55, 64, 59, 56, 60, 57, 65, 69, 57, 62, 67, 59, 59, 62, 60, 59, 57, 58, 60, 62, 64, 62, 60, 62, 64, 65, 66, 67, 77, 67, 69, 73, 69, 72, 64, 65, 69, 70, 67, 81, 72, 69, 76, 76, 70, 72, 71, 68, 72, 67, 70, 74, 70, 59, 65, 69, 67, 65, 64, 67, 65, 69, 72, 65, 70, 74, 77, 65, 71, 69, 61, 67, 58, 66, 60, 57, 52, 57, 53, 57, 48, 52, 57, 45, 50, 53, 57, 48, 52, 57, 60, 64, 56, 57, 65, 59, 71, 60, 72, 64, 59, 71, 59, 71, 64, 60, 72, 64, 67, 71, 76, 71, 75, 69, 73, 71, 64, 68, 64, 60, 69, 57, 64, 52, 56, 64, 64, 69, 68, 77, 76, 76, 79, 84]\n"
     ]
    }
   ],
   "source": [
    "print(song)"
   ]
  },
  {
   "cell_type": "code",
   "execution_count": null,
   "id": "d74ed28e-8533-4d0a-908d-5eee695b8b19",
   "metadata": {},
   "outputs": [],
   "source": [
    "def create_midi(song):\n",
    "    mid = MidiFile()\n",
    "    track = MidiTrack()\n",
    "    mid.tracks.append(track)\n",
    "    for note in song: \n",
    "        track.append(mido.Message('note_on', note = note, time = 0))\n",
    "        track.append(mido.Message('note_off', note = note, time = 256))\n",
    "        track.append(mido.Message('note_on', note = 67, time = 0))\n",
    "        track.append(mido.Message('note_on', note = 59, time = 0))\n",
    "        track.append(mido.Message('note_on', note = 79, time = 0))\n",
    "        track.append(mido.Message('note_off', note = 67, time = 256))\n",
    "        track.append(mido.Message('note_off', note = 59, time = 256))\n",
    "        track.append(mido.Message('note_off', note = 79, time = 256))\n",
    "\n",
    "    mid.save('new_song89.mid')\n",
    "    "
   ]
  },
  {
   "cell_type": "code",
   "execution_count": null,
   "id": "89cea2d8-711e-419c-b40c-6a4818aefc23",
   "metadata": {},
   "outputs": [],
   "source": [
    "create_midi(song)"
   ]
  },
  {
   "cell_type": "code",
   "execution_count": 17,
   "id": "aaa74921",
   "metadata": {},
   "outputs": [],
   "source": [
    "def create_list_of_messages(midi_folder):\n",
    "    list_of_messages = []\n",
    "    for midi_file_name in os.listdir(midi_folder):\n",
    "        midsource = MidiFile(midi_folder + \"/\" + midi_file_name)\n",
    "        note_token_sequence = []\n",
    "        for i, track in enumerate(midsource.tracks):\n",
    "            if track.name == 'Piano right':\n",
    "                for msg in track:\n",
    "                    if msg.type == 'note_on':\n",
    "                        #note_token_sequence.append(msg.note)\n",
    "                        list_of_messages.append(msg)\n",
    "    return list_of_messages"
   ]
  },
  {
   "cell_type": "code",
   "execution_count": null,
   "id": "f90a9cc9-35fc-4a9f-b745-a06cadd6e4be",
   "metadata": {},
   "outputs": [],
   "source": []
  },
  {
   "cell_type": "code",
   "execution_count": null,
   "id": "5419f373",
   "metadata": {},
   "outputs": [],
   "source": [
    "def create_times_list(list_of_messages):\n",
    "    times_list = [0]\n",
    "    for msg in list_of_messages:\n",
    "        time = msg.time\n",
    "        times_list.append(sum(times_list) + time)\n",
    "    return times_list"
   ]
  },
  {
   "cell_type": "code",
   "execution_count": null,
   "id": "0f1b1984",
   "metadata": {},
   "outputs": [
    {
     "name": "stderr",
     "output_type": "stream",
     "text": [
      "IOPub data rate exceeded.\n",
      "The Jupyter server will temporarily stop sending output\n",
      "to the client in order to avoid crashing it.\n",
      "To change this limit, set the config variable\n",
      "`--ServerApp.iopub_data_rate_limit`.\n",
      "\n",
      "Current values:\n",
      "ServerApp.iopub_data_rate_limit=1000000.0 (bytes/sec)\n",
      "ServerApp.rate_limit_window=3.0 (secs)\n",
      "\n"
     ]
    },
    {
     "name": "stdout",
     "output_type": "stream",
     "text": [
      "\n"
     ]
    },
    {
     "name": "stderr",
     "output_type": "stream",
     "text": [
      "IOPub data rate exceeded.\n",
      "The Jupyter server will temporarily stop sending output\n",
      "to the client in order to avoid crashing it.\n",
      "To change this limit, set the config variable\n",
      "`--ServerApp.iopub_data_rate_limit`.\n",
      "\n",
      "Current values:\n",
      "ServerApp.iopub_data_rate_limit=1000000.0 (bytes/sec)\n",
      "ServerApp.rate_limit_window=3.0 (secs)\n",
      "\n"
     ]
    }
   ],
   "source": [
    "list_of_messages = create_list_of_messages(\"./midis\")\n",
    "print(len(list_of_messages))\n"
   ]
  },
  {
   "cell_type": "code",
   "execution_count": null,
   "id": "c36a63bc",
   "metadata": {},
   "outputs": [],
   "source": [
    "create_times_list(list_of_messages)"
   ]
  },
  {
   "cell_type": "code",
   "execution_count": null,
   "id": "d65df1cd-db05-4c59-9170-1cdd139ad1ab",
   "metadata": {},
   "outputs": [],
   "source": []
  }
 ],
 "metadata": {
  "kernelspec": {
   "display_name": "Python 3 (ipykernel)",
   "language": "python",
   "name": "python3"
  },
  "language_info": {
   "codemirror_mode": {
    "name": "ipython",
    "version": 3
   },
   "file_extension": ".py",
   "mimetype": "text/x-python",
   "name": "python",
   "nbconvert_exporter": "python",
   "pygments_lexer": "ipython3",
   "version": "3.9.7"
  },
  "vscode": {
   "interpreter": {
    "hash": "aee8b7b246df8f9039afb4144a1f6fd8d2ca17a180786b69acc140d282b71a49"
   }
  }
 },
 "nbformat": 4,
 "nbformat_minor": 5
}
