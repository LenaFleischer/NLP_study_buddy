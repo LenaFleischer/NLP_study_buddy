{
 "cells": [
  {
   "cell_type": "code",
   "execution_count": 4,
   "id": "b805bd34",
   "metadata": {},
   "outputs": [],
   "source": [
    "from mido import MidiFile\n",
    "import os\n"
   ]
  },
  {
   "cell_type": "code",
   "execution_count": 5,
   "id": "1e6d6bdc",
   "metadata": {},
   "outputs": [
    {
     "name": "stdout",
     "output_type": "stream",
     "text": [
      "<midi file '/Users/lena/git/NLP_study_buddy/midis/mozart/mz_311_1.mid' type 1, 10 tracks, 7493 messages>\n"
     ]
    }
   ],
   "source": [
    "filepath = os.path.join(os.getcwd(),\"midis\", \"mozart\", \"mz_311_1.mid\")\n",
    "mid = MidiFile(filepath, clip=True)\n",
    "print(mid)"
   ]
  },
  {
   "cell_type": "code",
   "execution_count": null,
   "id": "7dae496e",
   "metadata": {},
   "outputs": [],
   "source": []
  }
 ],
 "metadata": {
  "kernelspec": {
   "display_name": "Python 3 (ipykernel)",
   "language": "python",
   "name": "python3"
  },
  "language_info": {
   "codemirror_mode": {
    "name": "ipython",
    "version": 3
   },
   "file_extension": ".py",
   "mimetype": "text/x-python",
   "name": "python",
   "nbconvert_exporter": "python",
   "pygments_lexer": "ipython3",
   "version": "3.10.6"
  }
 },
 "nbformat": 4,
 "nbformat_minor": 5
}
