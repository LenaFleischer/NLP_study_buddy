{
 "cells": [
  {
   "cell_type": "code",
   "execution_count": 51,
   "id": "075dc9c9",
   "metadata": {},
   "outputs": [],
   "source": [
    "from mido import MidiFile, MidiTrack\n",
    "from mido import Message, MidiFile, MidiTrack\n",
    "import os\n",
    "from mido import MetaMessage\n",
    "import random\n",
    "\n",
    "# directory name should be midis, at the same level as this file. "
   ]
  },
  {
   "cell_type": "code",
   "execution_count": 53,
   "id": "6a6e0dd2",
   "metadata": {},
   "outputs": [],
   "source": [
    "# for i, track in enumerate(mid.tracks):\n",
    "#     print('Track {}: {}'.format(i, track.name))\n",
    "#     for msg in track:\n",
    "#         if msg.type == 'key_signature':\n",
    "#             print(msg)\n",
    "            "
   ]
  },
  {
   "cell_type": "code",
   "execution_count": 54,
   "id": "a7298cde-f301-4d3a-b463-0110cd0e0575",
   "metadata": {},
   "outputs": [],
   "source": [
    "# This function will take in a folder and convert each MIDI file into a list of tokens where each token is a note value of the piece\n",
    "# It will return a 2D list where each row is a piece and each column represents a token/note of the piece\n",
    "def tokenize_pieces(midi_folder):\n",
    "    midi_pieces = []\n",
    "    for midi_file_name in os.listdir(midi_folder):\n",
    "        midsource = MidiFile(midi_folder + \"/\" + midi_file_name)\n",
    "        note_token_sequence = []\n",
    "        for i, track in enumerate(midsource.tracks):\n",
    "            if track.name == 'Piano right':\n",
    "                for msg in track:\n",
    "                    if msg.type == 'note_on':\n",
    "                         note_token_sequence.append(msg.note)\n",
    "        midi_pieces.append(note_token_sequence)\n",
    "    return midi_pieces"
   ]
  },
  {
   "cell_type": "code",
   "execution_count": 55,
   "id": "3acde28c-f50b-454a-b792-88ac6cc1df4c",
   "metadata": {},
   "outputs": [],
   "source": [
    "# This function will generate n grams given a list of token sequences\n",
    "def create_n_grams(n, token_sequences):\n",
    "    \n",
    "    paddings = n - 1\n",
    "    start_padding = \"<start>\"\n",
    "    end_padding = \"<end>\"\n",
    "    n_grams_count = {}\n",
    "\n",
    "    # Add the start padding (<start>) n-1 number of times\n",
    "    if paddings > 0:\n",
    "        for i in range(0, len(token_sequences)):\n",
    "            for j in range(0, paddings):\n",
    "                token_sequences[i].insert(0, start_padding)\n",
    "\n",
    "    # Add the end padding (<end>) once to the end of each sequence\n",
    "    for i in range(0, len(token_sequences)):\n",
    "        token_sequences[i].append(end_padding)\n",
    "\n",
    "    # Iterate through each word in each sequence and using slicing to get the n gram, then add to dictionary/update count\n",
    "    for sequence in token_sequences:\n",
    "        for i in range(len(sequence)-n+1): # Source: https://stackoverflow.com/questions/13423919/computing-n-grams-using-python\n",
    "            gram = sequence[i:i+n] # Source: https://stackoverflow.com/questions/13423919/computing-n-grams-using-python\n",
    "            gram = tuple(gram)\n",
    "            if gram in n_grams_count:\n",
    "                n_grams_count[gram] += 1\n",
    "            else:\n",
    "                n_grams_count[gram] = 1\n",
    "\n",
    "    return n_grams_count\n"
   ]
  },
  {
   "cell_type": "code",
   "execution_count": null,
   "id": "7fe03a2b-c848-4b12-8c25-f5b82b8d4a03",
   "metadata": {
    "tags": []
   },
   "outputs": [],
   "source": []
  },
  {
   "cell_type": "code",
   "execution_count": 56,
   "id": "8b32f8db-d4c4-4301-93b2-f96968e15f74",
   "metadata": {},
   "outputs": [],
   "source": [
    "def generate_song(n_gram_frequencies, k):\n",
    "    \n",
    "    # We need to first determine what the \"n\" is from the input frequency dictionary\n",
    "    n = len(tuple(n_gram_frequencies.keys())[0])\n",
    "\n",
    "    # Start with an empty tweet\n",
    "    song_sequence = []\n",
    "\n",
    "    # For bigrams and up...\n",
    "    if n - 1 > 0:\n",
    "        for i in range(0, n-1):\n",
    "            song_sequence.insert(0, \"<start>\")\n",
    "    \n",
    "        while song_sequence[len(song_sequence)-1] != \"<end>\":\n",
    "            \n",
    "            # Slice the song so we can get the previous n-1 gram that comes before the predicted token\n",
    "            previous_token_sequence = song_sequence[len(song_sequence)-(n-1):len(song_sequence)]\n",
    "\n",
    "            # Using dictionary comprehension, create a dictionary containing all n-grams that contain the previous token sequence\n",
    "            matched_dictionary = {k:v for k,v in n_gram_frequencies.items() if k[0:n - 1] == tuple(previous_token_sequence)}\n",
    "\n",
    "            # Prepare a list of possible choices along with their corresponding weights\n",
    "            choices = []\n",
    "            choices_weights = []\n",
    "\n",
    "            # Populate the choices and weights by iterating through the keys in the matched dictionary \n",
    "            matched_dictionary_keylist = list(matched_dictionary.keys())\n",
    "            for j in range(0, len(matched_dictionary_keylist)):\n",
    "                # insert the last word of the tuple key insert it as a choice\n",
    "                choices.append(matched_dictionary_keylist[j][len(matched_dictionary_keylist[j])-1])\n",
    "\n",
    "                # Weights are calculated by taking the actual count of the key and dividing it by all that is found\n",
    "                choices_weights.append(matched_dictionary[matched_dictionary_keylist[j]] / len(matched_dictionary) + k)\n",
    "            \n",
    "            chosen = random.choices(choices, weights=choices_weights, k=1)\n",
    "            song_sequence.append(chosen[0])\n",
    "    else:\n",
    "        # Special case for unigrams only\n",
    "        choices = []\n",
    "        choices_weights = []\n",
    "        n_gram_frequencies_keylist = list(n_gram_frequencies.keys())\n",
    "        for j in range(0, len(n_gram_frequencies_keylist)):\n",
    "            # insert the last word of the tuple key as a choice\n",
    "            choices.append(n_gram_frequencies_keylist[j][0])\n",
    "            choices_weights.append(n_gram_frequencies[n_gram_frequencies_keylist[j]] / len(n_gram_frequencies) + k)\n",
    "        \n",
    "        # Adding the first item so tweet isn't empty\n",
    "        song_sequence.append(random.choices(choices, weights=choices_weights, k=1)[0])\n",
    "        while song_sequence[len(song_sequence)-1] != \"<end>\":\n",
    "            chosen = random.choices(choices, weights=choices_weights, k=1)\n",
    "            song_sequence.append(chosen[0])\n",
    "    \n",
    "    # Removing the paddings and converting the grams of the tweet into a string\n",
    "    # return ' '.join([word for word in tweet if word != \"<start>\" and word != \"<end>\"])\n",
    "    for x in range(n-1):\n",
    "        song_sequence.pop(0)\n",
    "    song_sequence.pop(-1)\n",
    "    return song_sequence"
   ]
  },
  {
   "cell_type": "code",
   "execution_count": 57,
   "id": "f44055c2-6ef5-423c-bc5e-ce6eeb99f6ce",
   "metadata": {},
   "outputs": [],
   "source": [
    "# Our bigram of notes!\n",
    "song_token_sequences = create_n_grams(4, tokenize_pieces(\"./midis\"))\n",
    "song = generate_song(song_token_sequences, 0)"
   ]
  },
  {
   "cell_type": "code",
   "execution_count": 58,
   "id": "22757bf3-20f4-49a2-acc2-ac3fa169e44f",
   "metadata": {},
   "outputs": [
    {
     "name": "stdout",
     "output_type": "stream",
     "text": [
      "[64, 52, 57, 64, 60, 62, 65, 64, 62, 60, 64, 67, 59, 65, 64, 59, 60, 62, 65, 64, 60, 67, 72, 60, 63, 68, 72, 60, 63, 62, 59, 63, 67, 72, 75, 74, 72, 71, 69, 67, 65, 64, 61, 62, 64, 65, 67, 69, 64, 60, 65, 68, 72, 60, 63, 68, 72, 63, 68, 75, 63, 69, 76, 64, 67, 65, 64, 69, 67, 72, 76, 77, 76, 77, 76, 77, 81, 81, 71, 72, 75, 76, 68, 76, 68, 74, 68, 64, 58, 62, 61, 57, 55, 58, 54, 57, 55, 58, 54, 59, 55, 59, 62, 67, 57, 60, 62, 67, 59, 64, 67, 66, 67, 72, 67, 76, 77, 79, 77, 76, 74, 72, 80, 74, 72, 71, 74, 79, 78, 77, 76, 75, 74, 76, 80, 89, 77, 88, 76, 86, 74, 73, 85, 88, 90, 93, 91, 89, 88, 86, 84, 82, 81, 79, 78, 79, 81, 79, 77, 76, 77, 78, 79, 78, 79, 84, 79, 84, 84, 89, 84, 87, 80, 86, 80, 74, 90, 82, 78, 90, 90, 90, 91, 93, 91, 88, 84, 81, 79, 81, 84, 84, 86, 88, 90, 91, 90, 88, 86, 85, 88, 74, 78, 73, 76, 74, 71, 67, 72, 75, 74, 72, 70, 72, 69, 70, 71, 72, 74, 76, 74, 72, 71, 72, 74, 67, 67, 72, 76, 75, 76, 79, 64, 67, 72, 79, 67, 74, 72, 71, 74, 72, 71, 72, 71, 65, 59, 59, 65, 71, 71, 77, 77, 77, 79, 83, 72, 84, 50, 54, 60, 62, 50, 59, 62, 55, 60, 64, 52, 53, 62, 54, 55, 62, 62, 62, 72, 74, 72, 74, 76, 77, 78, 70, 76, 80, 79, 80, 77, 75, 74, 75, 74, 75, 72, 71, 79, 77, 67, 74, 64, 69, 73, 76, 81, 85, 69, 73, 78, 81, 72, 76, 81, 83, 81, 83, 81, 83, 81, 83, 84, 86, 88, 89, 88, 86, 84, 83, 81, 79, 76, 81, 80, 83, 81, 79, 78, 79, 81, 79, 76, 72, 79, 79, 74, 79, 74, 86, 84, 82, 81, 79, 77, 76, 74, 72, 74, 72, 74, 72, 74, 74, 74, 75, 76, 71, 71, 64, 65, 61, 62, 57, 62, 69, 65, 67, 70, 68, 67, 65, 63, 62, 60, 58, 57, 58, 62, 64, 76, 77, 65, 69, 76, 64, 69, 76, 71, 69, 67, 66, 69, 71, 83, 80, 84, 81, 72, 96, 84, 84, 96, 84, 89, 97, 85, 89, 73, 65, 68, 73, 73, 79, 72, 81, 74, 72, 76, 74, 72, 71, 69, 74, 76, 74, 72, 72, 84, 71, 83, 71, 83, 70, 82, 69, 81, 70, 82, 71, 83, 72, 84, 83, 82, 81, 80, 79, 78, 79, 86, 84, 83, 81, 79, 79, 77, 77, 79, 77, 76, 74, 72, 67, 62, 63, 66, 60, 64, 66, 64, 63, 61, 66, 66, 65, 66, 66, 67, 67, 71, 69, 66, 64, 72, 71, 69, 68, 66, 64, 62, 67, 70, 62, 72, 69, 74, 72, 74, 72, 70, 69, 68, 67, 66, 65, 64, 65, 74, 72, 72, 77, 65, 69, 72, 65, 64, 64, 62, 59, 62, 59, 62, 60, 57, 55, 50, 55, 59, 62, 65, 76, 71, 69, 65, 62, 65, 62, 59, 59, 62, 65, 62, 59, 64, 68, 69, 71, 64, 66, 70, 75, 63, 66, 66, 66, 64, 66, 57, 62, 71, 79, 71, 74, 72, 88, 78, 79, 80, 83, 86, 85, 84, 83, 82, 81, 80, 79, 80, 84, 83, 83, 86, 95, 83, 86, 95, 83, 86, 96, 84, 95, 83, 84, 96, 98, 86, 92, 99, 100, 88, 99, 87, 100, 93, 99, 87, 88, 81, 87, 84, 86, 81, 78, 74, 69, 74, 70, 76, 69, 70, 76, 79, 85, 73, 69, 66, 70, 67, 64, 65, 62, 65, 62, 59, 59, 62, 66, 67, 59, 65, 64, 59, 65, 62, 60, 64, 72, 72, 64, 60, 52, 57, 53, 50, 57, 53, 50, 57, 53, 50, 57, 45, 52, 57, 53, 52, 57, 64, 72, 60, 65, 69, 77, 69, 77, 81, 81, 72, 72, 79, 88, 82, 88, 79, 82, 87, 91, 87, 91, 86, 87, 96, 90, 95, 91, 96, 95, 90, 84, 93, 92, 83, 88, 76, 88, 100, 88, 100, 88, 100, 88, 100, 86, 86, 98, 88, 100, 93, 100, 86, 98, 96, 84, 83, 95, 93, 81, 71, 83, 72, 84, 83, 79, 80, 83, 88, 76, 88, 79, 74, 86, 67, 79, 79, 79, 79, 79, 79, 77, 76, 74, 72, 71, 72, 60, 64, 69, 71, 72, 74, 72, 71, 69, 67, 76, 81, 66, 78, 69, 83, 81, 77, 87, 86, 86, 84, 83, 81, 79, 81, 79, 78, 79, 84, 81, 84, 83, 86, 91, 90, 86, 83, 87, 84, 80, 77, 75, 74, 71, 72, 74, 72, 65, 77, 76, 71, 65, 77, 72, 66, 78, 71, 74, 78, 71, 78, 83, 72, 81, 81, 65, 69, 77, 74, 77, 76, 76, 74, 72, 67, 72, 60, 63, 68, 72, 58, 67, 74, 65, 72, 64, 72, 65, 72, 68, 72, 67, 68, 74, 72, 70, 68, 70, 76, 67, 69, 67, 69, 71, 72, 74, 72, 71, 67, 64, 66, 67, 70, 71, 75, 80, 77, 78, 81, 79, 82, 88, 93, 91, 89, 83, 84, 76, 78, 76, 74, 74, 72, 71, 74, 79, 83, 79, 74, 79, 67, 64, 76, 72, 64, 67, 72, 72, 70, 71, 67, 79, 72, 65, 76, 65, 74, 65, 74, 64, 72, 62, 71, 62, 72, 76, 69, 77, 74, 72, 76, 74, 77, 76, 74, 81, 76, 69, 76, 81, 69, 73, 76, 81, 73, 69, 88, 76, 81, 73, 76, 68, 71, 74, 80, 79, 71, 72, 65, 77, 71, 72, 74, 76, 78, 79, 79, 81, 81, 81, 81, 81, 81, 81, 81, 83, 81, 75, 85, 81, 73, 73, 69, 81, 69, 80, 68, 77, 65, 68, 75, 61, 65, 68, 73, 65, 63, 65, 63, 62, 63, 64, 74, 72, 64, 69, 64, 62, 60, 64, 72, 60, 64, 69, 69, 65, 60, 65, 60, 57, 55, 60, 55, 60, 65, 59, 60, 65, 59, 60, 65, 59, 62, 72, 63, 60, 60, 51, 47, 52, 49, 54, 54, 61, 64, 66, 62, 61, 64, 62, 66, 72, 69, 74, 69, 65, 59, 68, 60, 64, 69, 60, 72, 73, 65, 70, 61, 69, 64, 68, 64, 60, 64, 65, 64, 67, 60, 64, 72, 60, 67, 74, 62, 67, 71, 69, 65, 65, 57, 55, 61, 53, 60, 55, 62, 60, 67, 55, 60, 64, 67, 64, 60, 75, 71, 76, 72, 64, 76, 71, 74, 71, 74, 72, 81, 79, 76, 84, 75, 79, 76, 80, 72, 79, 71, 74, 72, 71, 79, 81, 83, 81, 83, 84, 79, 79, 89, 77, 79, 77, 76, 77, 79, 77, 79, 81, 83, 84, 88, 83, 84, 96, 48, 49, 50, 51, 52, 53, 52, 53, 56, 60, 65, 68, 72, 71, 69, 67, 66, 67, 64, 59, 60, 62, 63, 87, 75, 65, 68, 70, 65, 70, 64, 70, 64, 77, 72, 72, 72, 72, 72, 82, 86, 80, 83, 76, 88, 83, 71, 80, 83, 75, 52, 54, 56, 57, 59, 60, 65, 64, 54, 61, 66, 69, 73, 71, 64, 69, 64, 74, 72, 65, 77, 71, 68, 69, 72, 67, 71, 79, 68, 72, 80, 68, 72, 77, 68, 65, 65, 77, 71, 72, 76, 72, 69, 64, 69, 81, 71, 83, 77, 80, 74, 86, 79, 74, 86, 67, 79, 68, 80, 83, 71, 80, 76, 68, 80, 73, 85, 77, 83, 78, 81, 76, 79, 83, 79, 74, 79, 86, 79, 86, 79, 88, 84, 88, 93, 91, 89, 88, 52, 55, 60, 72, 69, 60, 63, 60, 63, 68, 72, 61, 63, 70, 60, 63, 68, 72, 60, 62, 69, 66, 74, 86, 86, 86, 79, 91, 83, 78, 86, 90, 79, 83, 91, 65, 71, 79, 77, 69, 68, 71, 71, 68, 71, 65, 69, 59, 65, 68, 66, 69, 75, 73, 75, 78, 75, 78, 75, 80, 75, 80, 74, 77, 68, 74, 77, 73, 76, 72, 75, 84, 80, 72, 84, 77, 81, 83, 84, 83, 84, 88, 86, 79, 91, 91, 103, 98, 100, 98, 95, 96, 97, 98, 103, 95, 96, 97, 63, 57, 64, 57, 52, 40, 46, 52, 52, 58, 64, 52, 60, 65, 62, 53, 62, 70, 77, 70, 79, 76, 69, 77, 74, 77, 76, 74, 72, 75, 79, 74, 75, 84, 78, 78, 78, 78, 86, 86, 86, 86, 79, 91, 79, 79, 67, 67, 79, 77, 76, 74, 72, 69, 78, 76, 72, 66, 67, 70, 68, 67, 65, 64, 62, 60, 57, 52, 60, 64, 64]\n"
     ]
    }
   ],
   "source": [
    "print(song)"
   ]
  },
  {
   "cell_type": "code",
   "execution_count": 59,
   "id": "d74ed28e-8533-4d0a-908d-5eee695b8b19",
   "metadata": {},
   "outputs": [],
   "source": [
    "def create_midi(song):\n",
    "    mid = MidiFile()\n",
    "    track = MidiTrack()\n",
    "    mid.tracks.append(track)\n",
    "    for note in song: \n",
    "        track.append(mido.Message('note_on', note = note, time = 0))\n",
    "        track.append(mido.Message('note_off', note = note, time = 256))\n",
    "\n",
    "    mid.save('new_song2.mid')\n",
    "    "
   ]
  },
  {
   "cell_type": "code",
   "execution_count": 60,
   "id": "89cea2d8-711e-419c-b40c-6a4818aefc23",
   "metadata": {},
   "outputs": [],
   "source": [
    "create_midi(song)"
   ]
  },
  {
   "cell_type": "code",
   "execution_count": null,
   "id": "5419f373",
   "metadata": {},
   "outputs": [],
   "source": []
  }
 ],
 "metadata": {
  "kernelspec": {
   "display_name": "Python 3 (ipykernel)",
   "language": "python",
   "name": "python3"
  },
  "language_info": {
   "codemirror_mode": {
    "name": "ipython",
    "version": 3
   },
   "file_extension": ".py",
   "mimetype": "text/x-python",
   "name": "python",
   "nbconvert_exporter": "python",
   "pygments_lexer": "ipython3",
   "version": "3.9.2"
  },
  "vscode": {
   "interpreter": {
    "hash": "aee8b7b246df8f9039afb4144a1f6fd8d2ca17a180786b69acc140d282b71a49"
   }
  }
 },
 "nbformat": 4,
 "nbformat_minor": 5
}
